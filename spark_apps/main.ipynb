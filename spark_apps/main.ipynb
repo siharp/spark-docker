{
 "cells": [
  {
   "cell_type": "code",
   "execution_count": 2,
   "id": "3c67ee5b-266d-4f82-ba18-2dae211d51f6",
   "metadata": {},
   "outputs": [],
   "source": [
    "# import libraries\n",
    "import pyspark\n",
    "import pandas as pd\n",
    "\n",
    "\n",
    "from pyspark.sql import SparkSession, SQLContext\n",
    "from pyspark.sql.functions import upper, col"
   ]
  },
  {
   "cell_type": "code",
   "execution_count": 3,
   "id": "66e74c21-593e-4814-a201-447c77381e16",
   "metadata": {},
   "outputs": [],
   "source": [
    "# inisialize pyspark\n",
    "spark = SparkSession.builder.appName('Pyspark Tutorial').getOrCreate()"
   ]
  },
  {
   "cell_type": "code",
   "execution_count": 4,
   "id": "4c60487f-ee05-473e-af8b-0217b670de3d",
   "metadata": {},
   "outputs": [
    {
     "data": {
      "text/html": [
       "\n",
       "            <div>\n",
       "                <p><b>SparkSession - in-memory</b></p>\n",
       "                \n",
       "        <div>\n",
       "            <p><b>SparkContext</b></p>\n",
       "\n",
       "            <p><a href=\"http://31f9c04070f1:4040\">Spark UI</a></p>\n",
       "\n",
       "            <dl>\n",
       "              <dt>Version</dt>\n",
       "                <dd><code>v3.5.0</code></dd>\n",
       "              <dt>Master</dt>\n",
       "                <dd><code>local[*]</code></dd>\n",
       "              <dt>AppName</dt>\n",
       "                <dd><code>Pyspark Tutorial</code></dd>\n",
       "            </dl>\n",
       "        </div>\n",
       "        \n",
       "            </div>\n",
       "        "
      ],
      "text/plain": [
       "<pyspark.sql.session.SparkSession at 0x7f43f3434910>"
      ]
     },
     "execution_count": 4,
     "metadata": {},
     "output_type": "execute_result"
    }
   ],
   "source": [
    "spark"
   ]
  },
  {
   "cell_type": "code",
   "execution_count": 5,
   "id": "3afa0557-7650-4f3d-83d3-b9a09e16212c",
   "metadata": {},
   "outputs": [],
   "source": [
    "# example create data orders\n",
    "data_orders = [\n",
    "    (1001, \"C001\", \"Laptop\", 12000, \"2024-03-01\"),\n",
    "    (1002, \"C002\", \"Smartphone\", 8000, \"2024-03-02\"),\n",
    "    (1003, \"C003\", \"Monitor\", 3000, \"2024-03-03\")\n",
    "]\n",
    "\n",
    "columns_orders = [\"order_id\", \"customer_id\", \"product\", \"amount\", \"order_date\"]\n",
    "df_orders = spark.createDataFrame(data_orders, columns_orders)\n",
    "\n",
    "# example create data customers\n",
    "data_customers = [\n",
    "    (\"C001\", \"Andi\", \"Jakarta\"),\n",
    "    (\"C002\", \"Budi\", \"Bandung\"),\n",
    "    (\"C003\", \"Citra\", \"Surabaya\")\n",
    "]\n",
    "\n",
    "columns_customers = [\"customer_id\", \"name\", \"city\"]\n",
    "df_customers = spark.createDataFrame(data_customers, columns_customers)"
   ]
  },
  {
   "cell_type": "code",
   "execution_count": 6,
   "id": "d4f28ca1-5003-49e9-a632-153fe2ecf9e5",
   "metadata": {},
   "outputs": [
    {
     "name": "stdout",
     "output_type": "stream",
     "text": [
      "+--------+-----------+----------+------+----------+\n",
      "|order_id|customer_id|   product|amount|order_date|\n",
      "+--------+-----------+----------+------+----------+\n",
      "|    1001|       C001|    Laptop| 12000|2024-03-01|\n",
      "|    1002|       C002|Smartphone|  8000|2024-03-02|\n",
      "|    1003|       C003|   Monitor|  3000|2024-03-03|\n",
      "+--------+-----------+----------+------+----------+\n",
      "\n"
     ]
    }
   ],
   "source": [
    "# show data orders\n",
    "df_orders.show()"
   ]
  },
  {
   "cell_type": "code",
   "execution_count": 7,
   "id": "a33c9fe8-5807-4698-924c-ee2c39e8792d",
   "metadata": {},
   "outputs": [
    {
     "name": "stdout",
     "output_type": "stream",
     "text": [
      "+-----------+-----+--------+\n",
      "|customer_id| name|    city|\n",
      "+-----------+-----+--------+\n",
      "|       C001| Andi| Jakarta|\n",
      "|       C002| Budi| Bandung|\n",
      "|       C003|Citra|Surabaya|\n",
      "+-----------+-----+--------+\n",
      "\n"
     ]
    }
   ],
   "source": [
    "# show data customers\n",
    "df_customers.show()"
   ]
  },
  {
   "cell_type": "code",
   "execution_count": 8,
   "id": "a1e97e77-37f9-48d6-89ed-68b8ba5ec7b0",
   "metadata": {},
   "outputs": [
    {
     "name": "stdout",
     "output_type": "stream",
     "text": [
      "-RECORD 0---------------\n",
      " customer_id | C001     \n",
      " name        | Andi     \n",
      " city        | Jakarta  \n",
      "-RECORD 1---------------\n",
      " customer_id | C002     \n",
      " name        | Budi     \n",
      " city        | Bandung  \n",
      "-RECORD 2---------------\n",
      " customer_id | C003     \n",
      " name        | Citra    \n",
      " city        | Surabaya \n",
      "\n"
     ]
    }
   ],
   "source": [
    "# show data vertical \n",
    "df_customers.show(vertical=True)"
   ]
  },
  {
   "cell_type": "code",
   "execution_count": 9,
   "id": "51e00622-1c41-4a92-a187-169b798069a3",
   "metadata": {},
   "outputs": [
    {
     "name": "stdout",
     "output_type": "stream",
     "text": [
      "-RECORD 0--------------\n",
      " customer_id | C001    \n",
      " name        | Andi    \n",
      " city        | Jakarta \n",
      "only showing top 1 row\n",
      "\n"
     ]
    }
   ],
   "source": [
    "# show data vertical \n",
    "df_customers.show(1, vertical=True)"
   ]
  },
  {
   "cell_type": "code",
   "execution_count": 10,
   "id": "21135f7e-324d-4d5f-b350-fc4b9aae9b9c",
   "metadata": {},
   "outputs": [
    {
     "name": "stdout",
     "output_type": "stream",
     "text": [
      "root\n",
      " |-- order_id: long (nullable = true)\n",
      " |-- customer_id: string (nullable = true)\n",
      " |-- product: string (nullable = true)\n",
      " |-- amount: long (nullable = true)\n",
      " |-- order_date: string (nullable = true)\n",
      "\n"
     ]
    }
   ],
   "source": [
    "# print schema\n",
    "df_orders.printSchema()"
   ]
  },
  {
   "cell_type": "code",
   "execution_count": 11,
   "id": "49abb435-c0a9-4e6f-8c8b-37aaf022d1df",
   "metadata": {},
   "outputs": [
    {
     "data": {
      "text/plain": [
       "Column<'name'>"
      ]
     },
     "execution_count": 11,
     "metadata": {},
     "output_type": "execute_result"
    }
   ],
   "source": [
    "# selecting columns\n",
    "df_customers.name"
   ]
  },
  {
   "cell_type": "code",
   "execution_count": 12,
   "id": "bd2db919-3a80-44ab-b22f-793a8b20be41",
   "metadata": {},
   "outputs": [
    {
     "name": "stdout",
     "output_type": "stream",
     "text": [
      "+-----+\n",
      "| name|\n",
      "+-----+\n",
      "| Andi|\n",
      "| Budi|\n",
      "|Citra|\n",
      "+-----+\n",
      "\n"
     ]
    }
   ],
   "source": [
    "# select columns and show\n",
    "df_customers.select(df_customers.name).show()"
   ]
  },
  {
   "cell_type": "code",
   "execution_count": 13,
   "id": "a0ea7ca2-fe38-4942-b570-cb7cfa2fd8e2",
   "metadata": {},
   "outputs": [
    {
     "name": "stdout",
     "output_type": "stream",
     "text": [
      "+-----------+----+-------+\n",
      "|customer_id|name|   city|\n",
      "+-----------+----+-------+\n",
      "|       C001|Andi|Jakarta|\n",
      "+-----------+----+-------+\n",
      "\n"
     ]
    }
   ],
   "source": [
    "# filtering data\n",
    "df_customers.filter(df_customers.name == 'Andi').show()"
   ]
  },
  {
   "cell_type": "code",
   "execution_count": 14,
   "id": "bd87c6b0-5648-47c3-a2b6-41801bf26985",
   "metadata": {},
   "outputs": [
    {
     "name": "stdout",
     "output_type": "stream",
     "text": [
      "+-----------+--------+----------+------+----------+-----+--------+\n",
      "|customer_id|order_id|   product|amount|order_date| name|    city|\n",
      "+-----------+--------+----------+------+----------+-----+--------+\n",
      "|       C001|    1001|    Laptop| 12000|2024-03-01| Andi| Jakarta|\n",
      "|       C002|    1002|Smartphone|  8000|2024-03-02| Budi| Bandung|\n",
      "|       C003|    1003|   Monitor|  3000|2024-03-03|Citra|Surabaya|\n",
      "+-----------+--------+----------+------+----------+-----+--------+\n",
      "\n"
     ]
    }
   ],
   "source": [
    "# join data\n",
    "df_all = df_orders.join(df_customers, on='customer_id', how='inner')\n",
    "df_all.show()"
   ]
  },
  {
   "cell_type": "code",
   "execution_count": 15,
   "id": "7ed72934-db78-46ef-ab16-cb6a66860c08",
   "metadata": {},
   "outputs": [],
   "source": [
    "# read json file\n",
    "dataset= '/home/jovyan/work/data/nyt2.json'\n",
    "data = spark.read.json(dataset)"
   ]
  },
  {
   "cell_type": "code",
   "execution_count": 16,
   "id": "f86464b9-dd62-4f75-91e2-9f5052156ced",
   "metadata": {},
   "outputs": [
    {
     "name": "stdout",
     "output_type": "stream",
     "text": [
      "+--------------------+--------------------+---------------+-----------------+--------------------+-------------+-----------------+-------------+----+--------------+--------------------+-------------+\n",
      "|                 _id|  amazon_product_url|         author| bestsellers_date|         description|        price|   published_date|    publisher|rank|rank_last_week|               title|weeks_on_list|\n",
      "+--------------------+--------------------+---------------+-----------------+--------------------+-------------+-----------------+-------------+----+--------------+--------------------+-------------+\n",
      "|{5b4aa4ead3089013...|http://www.amazon...|  Dean R Koontz|{{1211587200000}}|Odd Thomas, who c...|   {NULL, 27}|{{1212883200000}}|       Bantam| {1}|           {0}|           ODD HOURS|          {1}|\n",
      "|{5b4aa4ead3089013...|http://www.amazon...|Stephenie Meyer|{{1211587200000}}|Aliens have taken...|{25.99, NULL}|{{1212883200000}}|Little, Brown| {2}|           {1}|            THE HOST|          {3}|\n",
      "|{5b4aa4ead3089013...|http://www.amazon...|   Emily Giffin|{{1211587200000}}|A woman's happy m...|{24.95, NULL}|{{1212883200000}}| St. Martin's| {3}|           {2}|LOVE THE ONE YOU'...|          {2}|\n",
      "+--------------------+--------------------+---------------+-----------------+--------------------+-------------+-----------------+-------------+----+--------------+--------------------+-------------+\n",
      "only showing top 3 rows\n",
      "\n"
     ]
    }
   ],
   "source": [
    "data.show(3)"
   ]
  },
  {
   "cell_type": "code",
   "execution_count": 17,
   "id": "e03ec4ae-a758-4615-b643-c0c964bec73e",
   "metadata": {},
   "outputs": [
    {
     "data": {
      "text/plain": [
       "['_id',\n",
       " 'amazon_product_url',\n",
       " 'author',\n",
       " 'bestsellers_date',\n",
       " 'description',\n",
       " 'price',\n",
       " 'published_date',\n",
       " 'publisher',\n",
       " 'rank',\n",
       " 'rank_last_week',\n",
       " 'title',\n",
       " 'weeks_on_list']"
      ]
     },
     "execution_count": 17,
     "metadata": {},
     "output_type": "execute_result"
    }
   ],
   "source": [
    "# show columns\n",
    "data.columns"
   ]
  },
  {
   "cell_type": "code",
   "execution_count": 18,
   "id": "f6562ff4-6389-467f-a871-bcbb54a7d3b8",
   "metadata": {},
   "outputs": [
    {
     "name": "stdout",
     "output_type": "stream",
     "text": [
      "root\n",
      " |-- _id: struct (nullable = true)\n",
      " |    |-- $oid: string (nullable = true)\n",
      " |-- amazon_product_url: string (nullable = true)\n",
      " |-- author: string (nullable = true)\n",
      " |-- bestsellers_date: struct (nullable = true)\n",
      " |    |-- $date: struct (nullable = true)\n",
      " |    |    |-- $numberLong: string (nullable = true)\n",
      " |-- description: string (nullable = true)\n",
      " |-- price: struct (nullable = true)\n",
      " |    |-- $numberDouble: string (nullable = true)\n",
      " |    |-- $numberInt: string (nullable = true)\n",
      " |-- published_date: struct (nullable = true)\n",
      " |    |-- $date: struct (nullable = true)\n",
      " |    |    |-- $numberLong: string (nullable = true)\n",
      " |-- publisher: string (nullable = true)\n",
      " |-- rank: struct (nullable = true)\n",
      " |    |-- $numberInt: string (nullable = true)\n",
      " |-- rank_last_week: struct (nullable = true)\n",
      " |    |-- $numberInt: string (nullable = true)\n",
      " |-- title: string (nullable = true)\n",
      " |-- weeks_on_list: struct (nullable = true)\n",
      " |    |-- $numberInt: string (nullable = true)\n",
      "\n"
     ]
    }
   ],
   "source": [
    "data.printSchema()"
   ]
  },
  {
   "cell_type": "code",
   "execution_count": 19,
   "id": "24182994-e263-4c71-8e92-633859d9d601",
   "metadata": {},
   "outputs": [
    {
     "name": "stdout",
     "output_type": "stream",
     "text": [
      "+--------------------+\n",
      "|               title|\n",
      "+--------------------+\n",
      "|           ODD HOURS|\n",
      "|            THE HOST|\n",
      "|LOVE THE ONE YOU'...|\n",
      "|           THE FRONT|\n",
      "|               SNUFF|\n",
      "+--------------------+\n",
      "only showing top 5 rows\n",
      "\n"
     ]
    }
   ],
   "source": [
    "data.select('title').show(5)"
   ]
  },
  {
   "cell_type": "code",
   "execution_count": 20,
   "id": "b8fd5df5-8659-4faa-b508-9d515569b92a",
   "metadata": {},
   "outputs": [
    {
     "name": "stdout",
     "output_type": "stream",
     "text": [
      "+--------------------+--------------------+----+-------------+\n",
      "|              author|               title|rank|        price|\n",
      "+--------------------+--------------------+----+-------------+\n",
      "|       Dean R Koontz|           ODD HOURS| {1}|   {NULL, 27}|\n",
      "|     Stephenie Meyer|            THE HOST| {2}|{25.99, NULL}|\n",
      "|        Emily Giffin|LOVE THE ONE YOU'...| {3}|{24.95, NULL}|\n",
      "|   Patricia Cornwell|           THE FRONT| {4}|{22.95, NULL}|\n",
      "|     Chuck Palahniuk|               SNUFF| {5}|{24.95, NULL}|\n",
      "|James Patterson a...|SUNDAYS AT TIFFANY’S| {6}|{24.99, NULL}|\n",
      "|       John Sandford|        PHANTOM PREY| {7}|{26.95, NULL}|\n",
      "|       Jimmy Buffett|          SWINE NOT?| {8}|{21.99, NULL}|\n",
      "|    Elizabeth George|     CARELESS IN RED| {9}|{27.95, NULL}|\n",
      "|      David Baldacci|     THE WHOLE TRUTH|{10}|{26.99, NULL}|\n",
      "+--------------------+--------------------+----+-------------+\n",
      "only showing top 10 rows\n",
      "\n"
     ]
    }
   ],
   "source": [
    "# show several columns\n",
    "data.select(\"author\", \"title\", \"rank\", \"price\").show(10)"
   ]
  },
  {
   "cell_type": "code",
   "execution_count": 21,
   "id": "3db06aae-9c60-4ded-ab28-0efe3c945aa8",
   "metadata": {},
   "outputs": [],
   "source": [
    "# create new column \n",
    "data = data.withColumn('author_upper', upper(data.author))"
   ]
  },
  {
   "cell_type": "code",
   "execution_count": 22,
   "id": "06c3c12d-52e7-49b8-89d3-d3566ebc64c3",
   "metadata": {},
   "outputs": [
    {
     "name": "stdout",
     "output_type": "stream",
     "text": [
      "+--------------------+--------------------+---------------+-----------------+--------------------+-------------+-----------------+-------------+----+--------------+--------------------+-------------+---------------+\n",
      "|                 _id|  amazon_product_url|         author| bestsellers_date|         description|        price|   published_date|    publisher|rank|rank_last_week|               title|weeks_on_list|   author_upper|\n",
      "+--------------------+--------------------+---------------+-----------------+--------------------+-------------+-----------------+-------------+----+--------------+--------------------+-------------+---------------+\n",
      "|{5b4aa4ead3089013...|http://www.amazon...|  Dean R Koontz|{{1211587200000}}|Odd Thomas, who c...|   {NULL, 27}|{{1212883200000}}|       Bantam| {1}|           {0}|           ODD HOURS|          {1}|  DEAN R KOONTZ|\n",
      "|{5b4aa4ead3089013...|http://www.amazon...|Stephenie Meyer|{{1211587200000}}|Aliens have taken...|{25.99, NULL}|{{1212883200000}}|Little, Brown| {2}|           {1}|            THE HOST|          {3}|STEPHENIE MEYER|\n",
      "|{5b4aa4ead3089013...|http://www.amazon...|   Emily Giffin|{{1211587200000}}|A woman's happy m...|{24.95, NULL}|{{1212883200000}}| St. Martin's| {3}|           {2}|LOVE THE ONE YOU'...|          {2}|   EMILY GIFFIN|\n",
      "+--------------------+--------------------+---------------+-----------------+--------------------+-------------+-----------------+-------------+----+--------------+--------------------+-------------+---------------+\n",
      "only showing top 3 rows\n",
      "\n"
     ]
    }
   ],
   "source": [
    "data.show(3)"
   ]
  },
  {
   "cell_type": "code",
   "execution_count": 23,
   "id": "b83565ee-25d6-477b-b10a-de5f285936db",
   "metadata": {},
   "outputs": [
    {
     "data": {
      "text/plain": [
       "['_id',\n",
       " 'amazon_product_url',\n",
       " 'author',\n",
       " 'bestsellers_date',\n",
       " 'description',\n",
       " 'price',\n",
       " 'published_date',\n",
       " 'publisher',\n",
       " 'rank',\n",
       " 'rank_last_week',\n",
       " 'title',\n",
       " 'weeks_on_list',\n",
       " 'author_upper']"
      ]
     },
     "execution_count": 23,
     "metadata": {},
     "output_type": "execute_result"
    },
    {
     "name": "stderr",
     "output_type": "stream",
     "text": [
      "----------------------------------------\n",
      "Exception occurred during processing of request from ('127.0.0.1', 36396)\n",
      "Traceback (most recent call last):\n",
      "  File \"/opt/conda/lib/python3.11/socketserver.py\", line 317, in _handle_request_noblock\n",
      "    self.process_request(request, client_address)\n",
      "  File \"/opt/conda/lib/python3.11/socketserver.py\", line 348, in process_request\n",
      "    self.finish_request(request, client_address)\n",
      "  File \"/opt/conda/lib/python3.11/socketserver.py\", line 361, in finish_request\n",
      "    self.RequestHandlerClass(request, client_address, self)\n",
      "  File \"/opt/conda/lib/python3.11/socketserver.py\", line 755, in __init__\n",
      "    self.handle()\n",
      "  File \"/usr/local/spark/python/pyspark/accumulators.py\", line 295, in handle\n",
      "    poll(accum_updates)\n",
      "  File \"/usr/local/spark/python/pyspark/accumulators.py\", line 267, in poll\n",
      "    if self.rfile in r and func():\n",
      "                           ^^^^^^\n",
      "  File \"/usr/local/spark/python/pyspark/accumulators.py\", line 271, in accum_updates\n",
      "    num_updates = read_int(self.rfile)\n",
      "                  ^^^^^^^^^^^^^^^^^^^^\n",
      "  File \"/usr/local/spark/python/pyspark/serializers.py\", line 596, in read_int\n",
      "    raise EOFError\n",
      "EOFError\n",
      "----------------------------------------\n"
     ]
    }
   ],
   "source": [
    "data.columns"
   ]
  },
  {
   "cell_type": "code",
   "execution_count": null,
   "id": "9ee2ddd1-04e3-4c96-be43-e512c4d52ab5",
   "metadata": {},
   "outputs": [],
   "source": []
  }
 ],
 "metadata": {
  "kernelspec": {
   "display_name": "Python 3 (ipykernel)",
   "language": "python",
   "name": "python3"
  },
  "language_info": {
   "codemirror_mode": {
    "name": "ipython",
    "version": 3
   },
   "file_extension": ".py",
   "mimetype": "text/x-python",
   "name": "python",
   "nbconvert_exporter": "python",
   "pygments_lexer": "ipython3",
   "version": "3.11.6"
  }
 },
 "nbformat": 4,
 "nbformat_minor": 5
}
