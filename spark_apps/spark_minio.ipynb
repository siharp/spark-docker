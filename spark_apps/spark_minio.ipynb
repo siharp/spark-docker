{
 "cells": [
  {
   "cell_type": "code",
   "execution_count": 1,
   "id": "f75616fc-e6aa-4915-b2ab-6956d5a3c5fc",
   "metadata": {},
   "outputs": [],
   "source": [
    "import pyspark\n",
    "from pyspark.sql import SparkSession"
   ]
  },
  {
   "cell_type": "code",
   "execution_count": 2,
   "id": "4ea7a496-4b04-4fcf-908b-7761ab760999",
   "metadata": {},
   "outputs": [],
   "source": [
    "spark = SparkSession.builder \\\n",
    "    .appName(\"MinIO_Spark\") \\\n",
    "    .config(\"spark.hadoop.fs.s3a.endpoint\", \"http://minio-server:9000\") \\\n",
    "    .config(\"spark.hadoop.fs.s3a.access.key\", \"minioadmin\") \\\n",
    "    .config(\"spark.hadoop.fs.s3a.secret.key\", \"minioadmin\") \\\n",
    "    .config(\"spark.hadoop.fs.s3a.impl\", \"org.apache.hadoop.fs.s3a.S3AFileSystem\") \\\n",
    "    .config(\"spark.hadoop.fs.s3a.path.style.access\", \"true\") \\\n",
    "    .config(\"spark.jars.packages\", \"org.apache.hadoop:hadoop-aws:3.3.1\") \\\n",
    "    .getOrCreate()"
   ]
  },
  {
   "cell_type": "code",
   "execution_count": 3,
   "id": "ea3ca0cb-01ac-47dd-bd82-9df35bcefc24",
   "metadata": {},
   "outputs": [],
   "source": [
    "df = spark.read.parquet('fhvhv/2021/01/')"
   ]
  },
  {
   "cell_type": "code",
   "execution_count": 4,
   "id": "24ad8575-7d99-4b8e-8bf8-a514174fa40a",
   "metadata": {},
   "outputs": [],
   "source": [
    "df.createOrReplaceTempView('data')"
   ]
  },
  {
   "cell_type": "code",
   "execution_count": 5,
   "id": "0ce00f8d-56d8-4d49-a9ac-088c47929785",
   "metadata": {},
   "outputs": [],
   "source": [
    "result = spark.sql('''\n",
    "    SELECT \n",
    "        hvfhs_license_num, \n",
    "        COUNT(*) AS total_trips\n",
    "    FROM data\n",
    "    GROUP BY hvfhs_license_num\n",
    "    ORDER BY total_trips DESC\n",
    "''')"
   ]
  },
  {
   "cell_type": "code",
   "execution_count": 6,
   "id": "c84631ea-5720-4e11-a7d8-6c451706aa38",
   "metadata": {},
   "outputs": [],
   "source": [
    "minio_path = \"s3a://test/revenue.parquet\"\n",
    "result.write.parquet(minio_path, mode=\"overwrite\")"
   ]
  },
  {
   "cell_type": "code",
   "execution_count": null,
   "id": "4102651d-465e-41eb-b88e-fe8fcce28149",
   "metadata": {},
   "outputs": [],
   "source": []
  }
 ],
 "metadata": {
  "kernelspec": {
   "display_name": "Python 3 (ipykernel)",
   "language": "python",
   "name": "python3"
  },
  "language_info": {
   "codemirror_mode": {
    "name": "ipython",
    "version": 3
   },
   "file_extension": ".py",
   "mimetype": "text/x-python",
   "name": "python",
   "nbconvert_exporter": "python",
   "pygments_lexer": "ipython3",
   "version": "3.11.6"
  }
 },
 "nbformat": 4,
 "nbformat_minor": 5
}
